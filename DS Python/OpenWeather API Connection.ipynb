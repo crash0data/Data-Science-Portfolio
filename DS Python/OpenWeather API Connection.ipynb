{
 "cells": [
  {
   "cell_type": "markdown",
   "metadata": {},
   "source": [
    "# OpenWeather API connection\n",
    "\n",
    "### Summary of the data extraction and process from OpenWeather API\n",
    "1.\t The data was extracted from the weather API using python’s request library and using the API key provided in the assignment\n",
    "1.\tMultiple city names were provided in order to get more data\n",
    "2.\tThe data after extracted contained nested values inside a python’s dictionary.\n",
    "1.\tTo tackle this problem, a class to flatten the nested python dictionary was created.\n",
    "2.\tThe python class hence created was able to give the flattened structure with a customizable separator to join with parent keys.\n",
    "3.\tThis process ensured increasing the variables\n",
    "3.\tAfter processing the nested structure, the data is imported into pandas data-frame.\n",
    "4.\tThe data was inspected to remove NaNs as a step for basic cleaning process.\n",
    "5.\tThe pandas’s describe method was used to get the basic stats about the data."
   ]
  },
  {
   "cell_type": "code",
   "execution_count": 1,
   "metadata": {},
   "outputs": [],
   "source": [
    "\n",
    "import json\n",
    "import pandas as pd\n",
    "import numpy as np\n",
    "import urllib\n",
    "from bs4 import BeautifulSoup\n",
    "import requests\n",
    "import selenium\n",
    "import os\n",
    "from selenium import webdriver\n",
    "from selenium.webdriver import safari\n",
    "from csv import reader\n",
    "\n",
    "from requests_oauthlib import oauth1_session\n",
    "import webbrowser\n",
    "import sys\n"
   ]
  },
  {
   "cell_type": "code",
   "execution_count": 2,
   "metadata": {},
   "outputs": [],
   "source": [
    "# Enter your API key here \n",
    "api_key = \"15f5610343bb11f6672dcd36c69f83e3\""
   ]
  },
  {
   "cell_type": "code",
   "execution_count": 3,
   "metadata": {},
   "outputs": [],
   "source": [
    "# base_url variable to store url \n",
    "base_url = \"http://api.openweathermap.org/data/2.5/weather?\""
   ]
  },
  {
   "cell_type": "code",
   "execution_count": 7,
   "metadata": {},
   "outputs": [
    {
     "name": "stdout",
     "output_type": "stream",
     "text": [
      "Enter city name : Phoenix\n"
     ]
    }
   ],
   "source": [
    "# Give city name \n",
    "city_name = input(\"Enter city name : \") "
   ]
  },
  {
   "cell_type": "code",
   "execution_count": 8,
   "metadata": {},
   "outputs": [],
   "source": [
    "# complete_url variable to store \n",
    "# complete url address \n",
    "complete_url = base_url + \"appid=\" + api_key + \"&q=\" + city_name "
   ]
  },
  {
   "cell_type": "code",
   "execution_count": 9,
   "metadata": {},
   "outputs": [],
   "source": [
    "# get method of requests module \n",
    "# return response object \n",
    "response = requests.get(complete_url) "
   ]
  },
  {
   "cell_type": "code",
   "execution_count": 10,
   "metadata": {},
   "outputs": [],
   "source": [
    "# json method of response object  \n",
    "# convert json format data into \n",
    "# python format data \n",
    "x = response.json() "
   ]
  },
  {
   "cell_type": "code",
   "execution_count": 11,
   "metadata": {},
   "outputs": [
    {
     "ename": "SyntaxError",
     "evalue": "unexpected EOF while parsing (<ipython-input-11-3109f1f2c444>, line 5)",
     "output_type": "error",
     "traceback": [
      "\u001b[0;36m  File \u001b[0;32m\"<ipython-input-11-3109f1f2c444>\"\u001b[0;36m, line \u001b[0;32m5\u001b[0m\n\u001b[0;31m    if x[\"cod\"] != \"404\":\u001b[0m\n\u001b[0m                          ^\u001b[0m\n\u001b[0;31mSyntaxError\u001b[0m\u001b[0;31m:\u001b[0m unexpected EOF while parsing\n"
     ]
    }
   ],
   "source": [
    "# Now x contains list of nested dictionaries \n",
    "# Check the value of \"cod\" key is equal to \n",
    "# \"404\", means city is found otherwise, \n",
    "# city is not found \n",
    "if x[\"cod\"] != \"404\": "
   ]
  },
  {
   "cell_type": "code",
   "execution_count": 13,
   "metadata": {},
   "outputs": [],
   "source": [
    "# store the value of \"main\" \n",
    "# key in variable y \n",
    "y = x[\"main\"] "
   ]
  },
  {
   "cell_type": "code",
   "execution_count": 15,
   "metadata": {},
   "outputs": [],
   "source": [
    " # store the value corresponding \n",
    "# to the \"temp\" key of y \n",
    "current_temperature = y[\"temp\"] "
   ]
  },
  {
   "cell_type": "code",
   "execution_count": 17,
   "metadata": {},
   "outputs": [],
   "source": [
    "# store the value corresponding \n",
    "# to the \"pressure\" key of y \n",
    "current_pressure = y[\"pressure\"] "
   ]
  },
  {
   "cell_type": "code",
   "execution_count": 18,
   "metadata": {},
   "outputs": [],
   "source": [
    "# store the value corresponding \n",
    "# to the \"humidity\" key of y \n",
    "current_humidiy = y[\"humidity\"] "
   ]
  },
  {
   "cell_type": "code",
   "execution_count": 19,
   "metadata": {},
   "outputs": [],
   "source": [
    "# store the value corresponding \n",
    "# to the \"humidity\" key of y \n",
    "current_humidiy = y[\"humidity\"] "
   ]
  },
  {
   "cell_type": "code",
   "execution_count": 20,
   "metadata": {},
   "outputs": [],
   "source": [
    "# store the value corresponding \n",
    "# to the \"minimum temperature\" key of y \n",
    "minimun_temperature = y[\"temp_min\"]    "
   ]
  },
  {
   "cell_type": "code",
   "execution_count": 21,
   "metadata": {},
   "outputs": [],
   "source": [
    " # store the value corresponding \n",
    "# to the \"maximum temperature\" key of y \n",
    "maximum_temperature = y[\"temp_max\"] "
   ]
  },
  {
   "cell_type": "code",
   "execution_count": 22,
   "metadata": {},
   "outputs": [],
   "source": [
    "# store the value of \"weather\" \n",
    "# key in variable z \n",
    "z = x[\"weather\"] "
   ]
  },
  {
   "cell_type": "code",
   "execution_count": 23,
   "metadata": {},
   "outputs": [],
   "source": [
    "# store the value corresponding  \n",
    "# to the \"description\" key at  \n",
    "# the 0th index of z \n",
    "weather_description = z[0][\"description\"] "
   ]
  },
  {
   "cell_type": "code",
   "execution_count": 24,
   "metadata": {},
   "outputs": [],
   "source": [
    "# store the value of \"coord\" \n",
    "# key in variable co \n",
    "co = x[\"coord\"] "
   ]
  },
  {
   "cell_type": "code",
   "execution_count": 25,
   "metadata": {},
   "outputs": [],
   "source": [
    "# store the value corresponding  \n",
    "# to the \"coordinates\" key at the of co \n",
    "longitude = co[\"lon\"] \n",
    "latitude = co[\"lat\"]"
   ]
  },
  {
   "cell_type": "code",
   "execution_count": 26,
   "metadata": {},
   "outputs": [],
   "source": [
    "# store the value of \"wind\" \n",
    "# key in variable w \n",
    "w = x[\"wind\"] "
   ]
  },
  {
   "cell_type": "code",
   "execution_count": 27,
   "metadata": {},
   "outputs": [],
   "source": [
    "# store the value corresponding  \n",
    "# to the \"wind\" key at the of w \n",
    "speed = w[\"speed\"] \n",
    "degree = w[\"deg\"]"
   ]
  },
  {
   "cell_type": "code",
   "execution_count": 28,
   "metadata": {},
   "outputs": [],
   "source": [
    "# store the value of \"sys\" \n",
    "# key in variable sy \n",
    "sy = x[\"sys\"] "
   ]
  },
  {
   "cell_type": "code",
   "execution_count": 29,
   "metadata": {},
   "outputs": [],
   "source": [
    " # store the value corresponding  \n",
    "# to the \"wind\" key at the of w \n",
    "country = sy[\"country\"]\n",
    "sunrise = sy[\"sunrise\"]\n",
    "sunset = sy[\"sunset\"]"
   ]
  },
  {
   "cell_type": "code",
   "execution_count": 30,
   "metadata": {},
   "outputs": [],
   "source": [
    "#timezone\n",
    "timezone = x[\"timezone\"]"
   ]
  },
  {
   "cell_type": "code",
   "execution_count": 32,
   "metadata": {},
   "outputs": [
    {
     "ename": "SyntaxError",
     "evalue": "invalid syntax (<ipython-input-32-8cc0a34dee3f>, line 36)",
     "output_type": "error",
     "traceback": [
      "\u001b[0;36m  File \u001b[0;32m\"<ipython-input-32-8cc0a34dee3f>\"\u001b[0;36m, line \u001b[0;32m36\u001b[0m\n\u001b[0;31m    else:\u001b[0m\n\u001b[0m       ^\u001b[0m\n\u001b[0;31mSyntaxError\u001b[0m\u001b[0;31m:\u001b[0m invalid syntax\n"
     ]
    }
   ],
   "source": [
    "#country name\n",
    "#name = x[\"name\"]\n",
    "    \n",
    "# print following values \n",
    "print(\" Temperature (in kelvin unit) = \" +\n",
    "                    str(current_temperature) + \n",
    "          \"\\n Atmospheric pressure (in hPa unit) = \" +\n",
    "                    str(current_pressure) +\n",
    "          \"\\n Humidity (in percentage) = \" +\n",
    "                    str(current_humidiy) +\n",
    "          \"\\n Description = \" +\n",
    "                    str(weather_description) +\n",
    "          \"\\n Minimum temperature = \" +\n",
    "                    str(minimun_temperature) +\n",
    "          \"\\n Maximum temperature = \" +\n",
    "                    str(maximum_temperature) +\n",
    "          \"\\n Lonitude = \" +\n",
    "                    str(longitude) +\n",
    "          \"\\n Latitude = \" +\n",
    "                    str(latitude) +\n",
    "          \"\\n Speed of wind = \"   +\n",
    "                    str(speed)  +\n",
    "          \"\\n Degree = \"   +\n",
    "                    str(degree) +\n",
    "          \"\\n Country = \" +\n",
    "                    str(country) +\n",
    "          \"\\n Sunrise = \" +\n",
    "                    str(sunrise) +  \n",
    "          \"\\n Sunset = \" +\n",
    "                    str(sunset)  +\n",
    "          \"\\n Timezone = \" +\n",
    "                    str(timezone)   +\n",
    "          \"\\n Visibility = \" +\n",
    "                    str(visibility)            \n",
    "          )\n",
    "else:\n",
    "    print(\" City Not Found \") "
   ]
  }
 ],
 "metadata": {
  "kernelspec": {
   "display_name": "Python 3",
   "language": "python",
   "name": "python3"
  },
  "language_info": {
   "codemirror_mode": {
    "name": "ipython",
    "version": 3
   },
   "file_extension": ".py",
   "mimetype": "text/x-python",
   "name": "python",
   "nbconvert_exporter": "python",
   "pygments_lexer": "ipython3",
   "version": "3.7.4"
  }
 },
 "nbformat": 4,
 "nbformat_minor": 2
}
