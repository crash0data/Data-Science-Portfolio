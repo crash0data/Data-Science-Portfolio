{
 "cells": [
  {
   "cell_type": "markdown",
   "metadata": {},
   "source": [
    "# Case Analysis Overview"
   ]
  },
  {
   "cell_type": "markdown",
   "metadata": {},
   "source": [
    "## Brooklyn Housing Analysis"
   ]
  },
  {
   "cell_type": "code",
   "execution_count": 1,
   "metadata": {},
   "outputs": [],
   "source": [
    "from __future__ import division\n",
    "import os\n",
    "import csv\n",
    "import pickle\n",
    "import json\n",
    "import datetime\n",
    "import io\n",
    "import geopandas as gpd\n",
    "import pandas as pd\n",
    "import numpy as np\n",
    "import time as tm\n",
    "import sys\n",
    "import string\n",
    "import re\n",
    "\n",
    "from scipy.special import erf\n",
    "from datetime import datetime\n",
    "from collections import Counter\n",
    "from io import BytesIO\n",
    "from sklearn.preprocessing import LabelEncoder\n",
    "from zipfile import ZipFile\n",
    "from urllib.request import urlopen\n",
    "\n",
    "import matplotlib.pyplot as plt\n",
    "from scipy.stats.stats import pearsonr\n",
    "%matplotlib notebook"
   ]
  },
  {
   "cell_type": "markdown",
   "metadata": {},
   "source": [
    "# Graph Analysis:\n",
    "### Write the step-by-step instructions for completing the Graph Analysis and provide findings"
   ]
  },
  {
   "cell_type": "code",
   "execution_count": 2,
   "metadata": {},
   "outputs": [
    {
     "data": {
      "text/plain": [
       "'/Users/Cindy/Desktop/Data Science Portfolio/DS Python/DS Python Code'"
      ]
     },
     "execution_count": 2,
     "metadata": {},
     "output_type": "execute_result"
    }
   ],
   "source": [
    "os.getcwd()"
   ]
  },
  {
   "cell_type": "markdown",
   "metadata": {},
   "source": [
    "#### Step 1: Load data into a dataframe"
   ]
  },
  {
   "cell_type": "code",
   "execution_count": 4,
   "metadata": {},
   "outputs": [],
   "source": [
    "housing_data = pd.read_csv('/Users/Cindy/Desktop/Data Science Portfolio/DS Python/DS Python Data files/brooklyn_sales_map.csv', low_memory=False)\n",
    "df = pd.read_csv('/Users/Cindy/Desktop/Data Science Portfolio/DS Python/DS Python Data files/NYCBuildingPermitsIssued.csv', low_memory=False)"
   ]
  },
  {
   "cell_type": "markdown",
   "metadata": {},
   "source": [
    "#### Step 2: Check the dimension of the table and view the data"
   ]
  },
  {
   "cell_type": "code",
   "execution_count": 5,
   "metadata": {},
   "outputs": [
    {
     "name": "stdout",
     "output_type": "stream",
     "text": [
      "The dimension of the table is:  (390883, 111)\n"
     ]
    },
    {
     "data": {
      "text/html": [
       "<div>\n",
       "<style scoped>\n",
       "    .dataframe tbody tr th:only-of-type {\n",
       "        vertical-align: middle;\n",
       "    }\n",
       "\n",
       "    .dataframe tbody tr th {\n",
       "        vertical-align: top;\n",
       "    }\n",
       "\n",
       "    .dataframe thead th {\n",
       "        text-align: right;\n",
       "    }\n",
       "</style>\n",
       "<table border=\"1\" class=\"dataframe\">\n",
       "  <thead>\n",
       "    <tr style=\"text-align: right;\">\n",
       "      <th></th>\n",
       "      <th>Unnamed: 0</th>\n",
       "      <th>borough</th>\n",
       "      <th>neighborhood</th>\n",
       "      <th>building_class_category</th>\n",
       "      <th>tax_class</th>\n",
       "      <th>block</th>\n",
       "      <th>lot</th>\n",
       "      <th>easement</th>\n",
       "      <th>building_class</th>\n",
       "      <th>address</th>\n",
       "      <th>...</th>\n",
       "      <th>EDesigNum</th>\n",
       "      <th>APPBBL</th>\n",
       "      <th>APPDate</th>\n",
       "      <th>PLUTOMapID</th>\n",
       "      <th>FIRM07_FLA</th>\n",
       "      <th>PFIRM15_FL</th>\n",
       "      <th>Version</th>\n",
       "      <th>MAPPLUTO_F</th>\n",
       "      <th>SHAPE_Leng</th>\n",
       "      <th>SHAPE_Area</th>\n",
       "    </tr>\n",
       "  </thead>\n",
       "  <tbody>\n",
       "    <tr>\n",
       "      <td>0</td>\n",
       "      <td>1</td>\n",
       "      <td>3</td>\n",
       "      <td>DOWNTOWN-METROTECH</td>\n",
       "      <td>28  COMMERCIAL CONDOS</td>\n",
       "      <td>4</td>\n",
       "      <td>140</td>\n",
       "      <td>1001</td>\n",
       "      <td>NaN</td>\n",
       "      <td>R5</td>\n",
       "      <td>330 JAY STREET</td>\n",
       "      <td>...</td>\n",
       "      <td>NaN</td>\n",
       "      <td>NaN</td>\n",
       "      <td>NaN</td>\n",
       "      <td>NaN</td>\n",
       "      <td>NaN</td>\n",
       "      <td>NaN</td>\n",
       "      <td>NaN</td>\n",
       "      <td>NaN</td>\n",
       "      <td>NaN</td>\n",
       "      <td>NaN</td>\n",
       "    </tr>\n",
       "    <tr>\n",
       "      <td>1</td>\n",
       "      <td>2</td>\n",
       "      <td>3</td>\n",
       "      <td>DOWNTOWN-FULTON FERRY</td>\n",
       "      <td>29  COMMERCIAL GARAGES</td>\n",
       "      <td>4</td>\n",
       "      <td>54</td>\n",
       "      <td>1</td>\n",
       "      <td>NaN</td>\n",
       "      <td>G7</td>\n",
       "      <td>85 JAY STREET</td>\n",
       "      <td>...</td>\n",
       "      <td>NaN</td>\n",
       "      <td>3.000540e+09</td>\n",
       "      <td>12/06/2002</td>\n",
       "      <td>1.0</td>\n",
       "      <td>NaN</td>\n",
       "      <td>NaN</td>\n",
       "      <td>17V1.1</td>\n",
       "      <td>0.0</td>\n",
       "      <td>1559.889144</td>\n",
       "      <td>140131.577176</td>\n",
       "    </tr>\n",
       "    <tr>\n",
       "      <td>2</td>\n",
       "      <td>3</td>\n",
       "      <td>3</td>\n",
       "      <td>BROOKLYN HEIGHTS</td>\n",
       "      <td>21  OFFICE BUILDINGS</td>\n",
       "      <td>4</td>\n",
       "      <td>204</td>\n",
       "      <td>1</td>\n",
       "      <td>NaN</td>\n",
       "      <td>O6</td>\n",
       "      <td>29 COLUMBIA HEIGHTS</td>\n",
       "      <td>...</td>\n",
       "      <td>NaN</td>\n",
       "      <td>0.000000e+00</td>\n",
       "      <td>NaN</td>\n",
       "      <td>1.0</td>\n",
       "      <td>NaN</td>\n",
       "      <td>NaN</td>\n",
       "      <td>17V1.1</td>\n",
       "      <td>0.0</td>\n",
       "      <td>890.718521</td>\n",
       "      <td>34656.447240</td>\n",
       "    </tr>\n",
       "    <tr>\n",
       "      <td>3</td>\n",
       "      <td>4</td>\n",
       "      <td>3</td>\n",
       "      <td>MILL BASIN</td>\n",
       "      <td>22  STORE BUILDINGS</td>\n",
       "      <td>4</td>\n",
       "      <td>8470</td>\n",
       "      <td>55</td>\n",
       "      <td>NaN</td>\n",
       "      <td>K6</td>\n",
       "      <td>5120 AVENUE U</td>\n",
       "      <td>...</td>\n",
       "      <td>NaN</td>\n",
       "      <td>0.000000e+00</td>\n",
       "      <td>NaN</td>\n",
       "      <td>1.0</td>\n",
       "      <td>1.0</td>\n",
       "      <td>1.0</td>\n",
       "      <td>17V1.1</td>\n",
       "      <td>0.0</td>\n",
       "      <td>3729.786857</td>\n",
       "      <td>797554.847834</td>\n",
       "    </tr>\n",
       "    <tr>\n",
       "      <td>4</td>\n",
       "      <td>5</td>\n",
       "      <td>3</td>\n",
       "      <td>BROOKLYN HEIGHTS</td>\n",
       "      <td>26 OTHER HOTELS</td>\n",
       "      <td>4</td>\n",
       "      <td>230</td>\n",
       "      <td>1</td>\n",
       "      <td>NaN</td>\n",
       "      <td>H8</td>\n",
       "      <td>21 CLARK STREET</td>\n",
       "      <td>...</td>\n",
       "      <td>NaN</td>\n",
       "      <td>0.000000e+00</td>\n",
       "      <td>NaN</td>\n",
       "      <td>1.0</td>\n",
       "      <td>NaN</td>\n",
       "      <td>NaN</td>\n",
       "      <td>17V1.1</td>\n",
       "      <td>0.0</td>\n",
       "      <td>620.761169</td>\n",
       "      <td>21360.147631</td>\n",
       "    </tr>\n",
       "  </tbody>\n",
       "</table>\n",
       "<p>5 rows × 111 columns</p>\n",
       "</div>"
      ],
      "text/plain": [
       "   Unnamed: 0  borough           neighborhood building_class_category  \\\n",
       "0           1        3     DOWNTOWN-METROTECH   28  COMMERCIAL CONDOS   \n",
       "1           2        3  DOWNTOWN-FULTON FERRY  29  COMMERCIAL GARAGES   \n",
       "2           3        3       BROOKLYN HEIGHTS    21  OFFICE BUILDINGS   \n",
       "3           4        3             MILL BASIN     22  STORE BUILDINGS   \n",
       "4           5        3       BROOKLYN HEIGHTS         26 OTHER HOTELS   \n",
       "\n",
       "  tax_class  block   lot  easement building_class              address  ...  \\\n",
       "0         4    140  1001       NaN             R5       330 JAY STREET  ...   \n",
       "1         4     54     1       NaN             G7        85 JAY STREET  ...   \n",
       "2         4    204     1       NaN             O6  29 COLUMBIA HEIGHTS  ...   \n",
       "3         4   8470    55       NaN             K6        5120 AVENUE U  ...   \n",
       "4         4    230     1       NaN             H8      21 CLARK STREET  ...   \n",
       "\n",
       "  EDesigNum        APPBBL     APPDate  PLUTOMapID  FIRM07_FLA  PFIRM15_FL  \\\n",
       "0       NaN           NaN         NaN         NaN         NaN         NaN   \n",
       "1       NaN  3.000540e+09  12/06/2002         1.0         NaN         NaN   \n",
       "2       NaN  0.000000e+00         NaN         1.0         NaN         NaN   \n",
       "3       NaN  0.000000e+00         NaN         1.0         1.0         1.0   \n",
       "4       NaN  0.000000e+00         NaN         1.0         NaN         NaN   \n",
       "\n",
       "   Version  MAPPLUTO_F   SHAPE_Leng     SHAPE_Area  \n",
       "0      NaN         NaN          NaN            NaN  \n",
       "1   17V1.1         0.0  1559.889144  140131.577176  \n",
       "2   17V1.1         0.0   890.718521   34656.447240  \n",
       "3   17V1.1         0.0  3729.786857  797554.847834  \n",
       "4   17V1.1         0.0   620.761169   21360.147631  \n",
       "\n",
       "[5 rows x 111 columns]"
      ]
     },
     "execution_count": 5,
     "metadata": {},
     "output_type": "execute_result"
    }
   ],
   "source": [
    "print(\"The dimension of the table is: \", housing_data.shape)\n",
    "housing_data.head(5)"
   ]
  },
  {
   "cell_type": "markdown",
   "metadata": {},
   "source": [
    "**Preview the first 5 rows of the data**"
   ]
  },
  {
   "cell_type": "code",
   "execution_count": 6,
   "metadata": {},
   "outputs": [
    {
     "data": {
      "text/html": [
       "<div>\n",
       "<style scoped>\n",
       "    .dataframe tbody tr th:only-of-type {\n",
       "        vertical-align: middle;\n",
       "    }\n",
       "\n",
       "    .dataframe tbody tr th {\n",
       "        vertical-align: top;\n",
       "    }\n",
       "\n",
       "    .dataframe thead th {\n",
       "        text-align: right;\n",
       "    }\n",
       "</style>\n",
       "<table border=\"1\" class=\"dataframe\">\n",
       "  <thead>\n",
       "    <tr style=\"text-align: right;\">\n",
       "      <th></th>\n",
       "      <th>permit_type</th>\n",
       "      <th>permit_status</th>\n",
       "      <th>house_number</th>\n",
       "      <th>street_name</th>\n",
       "      <th>zipcode</th>\n",
       "      <th>borough</th>\n",
       "      <th>issuance_date</th>\n",
       "      <th>expiration_date</th>\n",
       "      <th>job_start_date</th>\n",
       "      <th>job_type</th>\n",
       "      <th>...</th>\n",
       "      <th>permit_type_definition</th>\n",
       "      <th>permit_sequence_number</th>\n",
       "      <th>filing_date_unparsed</th>\n",
       "      <th>issuance_date_unparsed</th>\n",
       "      <th>expiration_date_unparsed</th>\n",
       "      <th>job_start_date_unparsed</th>\n",
       "      <th>act_as_superintendent_unparsed</th>\n",
       "      <th>superintendent_first_and_last_name</th>\n",
       "      <th>non_profit_unparsed</th>\n",
       "      <th>dobrundate_unparsed</th>\n",
       "    </tr>\n",
       "  </thead>\n",
       "  <tbody>\n",
       "    <tr>\n",
       "      <td>0</td>\n",
       "      <td>EW</td>\n",
       "      <td>ISSUED</td>\n",
       "      <td>4311</td>\n",
       "      <td>13TH AVENUE</td>\n",
       "      <td>11219.0</td>\n",
       "      <td>BROOKLYN</td>\n",
       "      <td>2008-09-16T00:00:00</td>\n",
       "      <td>2008-10-23T00:00:00</td>\n",
       "      <td>2008-09-16T00:00:00</td>\n",
       "      <td>A2</td>\n",
       "      <td>...</td>\n",
       "      <td>Equipment Work</td>\n",
       "      <td>1</td>\n",
       "      <td>09/16/2008 12:00:00 AM</td>\n",
       "      <td>09/16/2008 12:00:00 AM</td>\n",
       "      <td>10/23/2008 12:00:00 AM</td>\n",
       "      <td>09/16/2008 12:00:00 AM</td>\n",
       "      <td>NaN</td>\n",
       "      <td>NaN</td>\n",
       "      <td>N</td>\n",
       "      <td>11/03/2017 12:00:00 AM</td>\n",
       "    </tr>\n",
       "    <tr>\n",
       "      <td>1</td>\n",
       "      <td>EW</td>\n",
       "      <td>ISSUED</td>\n",
       "      <td>35</td>\n",
       "      <td>WEST  131 STREET</td>\n",
       "      <td>10037.0</td>\n",
       "      <td>MANHATTAN</td>\n",
       "      <td>2008-09-16T00:00:00</td>\n",
       "      <td>2009-09-14T00:00:00</td>\n",
       "      <td>2004-07-09T00:00:00</td>\n",
       "      <td>A2</td>\n",
       "      <td>...</td>\n",
       "      <td>Equipment Work</td>\n",
       "      <td>6</td>\n",
       "      <td>09/15/2008 12:00:00 AM</td>\n",
       "      <td>09/16/2008 12:00:00 AM</td>\n",
       "      <td>09/14/2009 12:00:00 AM</td>\n",
       "      <td>07/09/2004 12:00:00 AM</td>\n",
       "      <td>NaN</td>\n",
       "      <td>NaN</td>\n",
       "      <td>Y</td>\n",
       "      <td>11/03/2017 12:00:00 AM</td>\n",
       "    </tr>\n",
       "    <tr>\n",
       "      <td>2</td>\n",
       "      <td>NB</td>\n",
       "      <td>ISSUED</td>\n",
       "      <td>176-56</td>\n",
       "      <td>133RD AVE.</td>\n",
       "      <td>11434.0</td>\n",
       "      <td>QUEENS</td>\n",
       "      <td>2008-09-16T00:00:00</td>\n",
       "      <td>2009-02-01T00:00:00</td>\n",
       "      <td>2008-09-16T00:00:00</td>\n",
       "      <td>NB</td>\n",
       "      <td>...</td>\n",
       "      <td>New Building</td>\n",
       "      <td>1</td>\n",
       "      <td>09/16/2008 12:00:00 AM</td>\n",
       "      <td>09/16/2008 12:00:00 AM</td>\n",
       "      <td>02/01/2009 12:00:00 AM</td>\n",
       "      <td>09/16/2008 12:00:00 AM</td>\n",
       "      <td>NaN</td>\n",
       "      <td>JOHN OLOWNIA</td>\n",
       "      <td>N</td>\n",
       "      <td>11/03/2017 12:00:00 AM</td>\n",
       "    </tr>\n",
       "    <tr>\n",
       "      <td>3</td>\n",
       "      <td>PL</td>\n",
       "      <td>ISSUED</td>\n",
       "      <td>302</td>\n",
       "      <td>WEST 79TH STREET</td>\n",
       "      <td>10024.0</td>\n",
       "      <td>MANHATTAN</td>\n",
       "      <td>2008-09-16T00:00:00</td>\n",
       "      <td>2009-09-16T00:00:00</td>\n",
       "      <td>2008-09-16T00:00:00</td>\n",
       "      <td>A2</td>\n",
       "      <td>...</td>\n",
       "      <td>Plumbing</td>\n",
       "      <td>1</td>\n",
       "      <td>09/16/2008 12:00:00 AM</td>\n",
       "      <td>09/16/2008 12:00:00 AM</td>\n",
       "      <td>09/16/2009 12:00:00 AM</td>\n",
       "      <td>09/16/2008 12:00:00 AM</td>\n",
       "      <td>NaN</td>\n",
       "      <td>NaN</td>\n",
       "      <td>N</td>\n",
       "      <td>11/03/2017 12:00:00 AM</td>\n",
       "    </tr>\n",
       "    <tr>\n",
       "      <td>4</td>\n",
       "      <td>EW</td>\n",
       "      <td>ISSUED</td>\n",
       "      <td>1140</td>\n",
       "      <td>6 AVENUE</td>\n",
       "      <td>10036.0</td>\n",
       "      <td>MANHATTAN</td>\n",
       "      <td>2008-09-16T00:00:00</td>\n",
       "      <td>2009-06-30T00:00:00</td>\n",
       "      <td>2008-09-16T00:00:00</td>\n",
       "      <td>A2</td>\n",
       "      <td>...</td>\n",
       "      <td>Equipment Work</td>\n",
       "      <td>1</td>\n",
       "      <td>09/16/2008 12:00:00 AM</td>\n",
       "      <td>09/16/2008 12:00:00 AM</td>\n",
       "      <td>06/30/2009 12:00:00 AM</td>\n",
       "      <td>09/16/2008 12:00:00 AM</td>\n",
       "      <td>NaN</td>\n",
       "      <td>NaN</td>\n",
       "      <td>N</td>\n",
       "      <td>11/03/2017 12:00:00 AM</td>\n",
       "    </tr>\n",
       "  </tbody>\n",
       "</table>\n",
       "<p>5 rows × 74 columns</p>\n",
       "</div>"
      ],
      "text/plain": [
       "  permit_type permit_status house_number       street_name  zipcode  \\\n",
       "0          EW        ISSUED         4311       13TH AVENUE  11219.0   \n",
       "1          EW        ISSUED           35  WEST  131 STREET  10037.0   \n",
       "2          NB        ISSUED       176-56        133RD AVE.  11434.0   \n",
       "3          PL        ISSUED          302  WEST 79TH STREET  10024.0   \n",
       "4          EW        ISSUED         1140          6 AVENUE  10036.0   \n",
       "\n",
       "     borough        issuance_date      expiration_date       job_start_date  \\\n",
       "0   BROOKLYN  2008-09-16T00:00:00  2008-10-23T00:00:00  2008-09-16T00:00:00   \n",
       "1  MANHATTAN  2008-09-16T00:00:00  2009-09-14T00:00:00  2004-07-09T00:00:00   \n",
       "2     QUEENS  2008-09-16T00:00:00  2009-02-01T00:00:00  2008-09-16T00:00:00   \n",
       "3  MANHATTAN  2008-09-16T00:00:00  2009-09-16T00:00:00  2008-09-16T00:00:00   \n",
       "4  MANHATTAN  2008-09-16T00:00:00  2009-06-30T00:00:00  2008-09-16T00:00:00   \n",
       "\n",
       "  job_type  ... permit_type_definition permit_sequence_number  \\\n",
       "0       A2  ...         Equipment Work                      1   \n",
       "1       A2  ...         Equipment Work                      6   \n",
       "2       NB  ...           New Building                      1   \n",
       "3       A2  ...               Plumbing                      1   \n",
       "4       A2  ...         Equipment Work                      1   \n",
       "\n",
       "     filing_date_unparsed  issuance_date_unparsed expiration_date_unparsed  \\\n",
       "0  09/16/2008 12:00:00 AM  09/16/2008 12:00:00 AM   10/23/2008 12:00:00 AM   \n",
       "1  09/15/2008 12:00:00 AM  09/16/2008 12:00:00 AM   09/14/2009 12:00:00 AM   \n",
       "2  09/16/2008 12:00:00 AM  09/16/2008 12:00:00 AM   02/01/2009 12:00:00 AM   \n",
       "3  09/16/2008 12:00:00 AM  09/16/2008 12:00:00 AM   09/16/2009 12:00:00 AM   \n",
       "4  09/16/2008 12:00:00 AM  09/16/2008 12:00:00 AM   06/30/2009 12:00:00 AM   \n",
       "\n",
       "  job_start_date_unparsed act_as_superintendent_unparsed  \\\n",
       "0  09/16/2008 12:00:00 AM                            NaN   \n",
       "1  07/09/2004 12:00:00 AM                            NaN   \n",
       "2  09/16/2008 12:00:00 AM                            NaN   \n",
       "3  09/16/2008 12:00:00 AM                            NaN   \n",
       "4  09/16/2008 12:00:00 AM                            NaN   \n",
       "\n",
       "  superintendent_first_and_last_name non_profit_unparsed  \\\n",
       "0                                NaN                   N   \n",
       "1                                NaN                   Y   \n",
       "2                       JOHN OLOWNIA                   N   \n",
       "3                                NaN                   N   \n",
       "4                                NaN                   N   \n",
       "\n",
       "      dobrundate_unparsed  \n",
       "0  11/03/2017 12:00:00 AM  \n",
       "1  11/03/2017 12:00:00 AM  \n",
       "2  11/03/2017 12:00:00 AM  \n",
       "3  11/03/2017 12:00:00 AM  \n",
       "4  11/03/2017 12:00:00 AM  \n",
       "\n",
       "[5 rows x 74 columns]"
      ]
     },
     "execution_count": 6,
     "metadata": {},
     "output_type": "execute_result"
    }
   ],
   "source": [
    "df.head(5) "
   ]
  },
  {
   "cell_type": "markdown",
   "metadata": {},
   "source": [
    "**Return rows with 'issued' permit status**"
   ]
  },
  {
   "cell_type": "code",
   "execution_count": 7,
   "metadata": {},
   "outputs": [],
   "source": [
    "df = df[df['permit_status'] == 'ISSUED'] "
   ]
  },
  {
   "cell_type": "markdown",
   "metadata": {},
   "source": [
    "**Format date to perform datetime functions**"
   ]
  },
  {
   "cell_type": "code",
   "execution_count": 8,
   "metadata": {},
   "outputs": [],
   "source": [
    "df['issuance_date'] = pd.to_datetime(df['issuance_date'], format='%Y-%m-%d') "
   ]
  },
  {
   "cell_type": "markdown",
   "metadata": {},
   "source": [
    "**Counting values by year using datetime function**"
   ]
  },
  {
   "cell_type": "code",
   "execution_count": 9,
   "metadata": {},
   "outputs": [
    {
     "data": {
      "text/plain": [
       "2017.0    193534\n",
       "2016.0    188854\n",
       "2015.0    180404\n",
       "2014.0    168818\n",
       "2018.0    167699\n",
       "2013.0    159141\n",
       "2007.0    155548\n",
       "2006.0    152893\n",
       "2008.0    148435\n",
       "2005.0    147385\n",
       "2012.0    146589\n",
       "2011.0    142488\n",
       "2004.0    135382\n",
       "2010.0    134592\n",
       "2009.0    134315\n",
       "2003.0    120195\n",
       "2002.0    109781\n",
       "2019.0    106857\n",
       "2001.0    103215\n",
       "2000.0     98719\n",
       "1999.0     89674\n",
       "1998.0     80866\n",
       "1997.0     71321\n",
       "1996.0     65322\n",
       "1995.0     61670\n",
       "1994.0     59758\n",
       "1993.0     56702\n",
       "1992.0     51426\n",
       "1991.0     44578\n",
       "1990.0     22981\n",
       "1989.0      2969\n",
       "Name: issuance_date, dtype: int64"
      ]
     },
     "execution_count": 9,
     "metadata": {},
     "output_type": "execute_result"
    }
   ],
   "source": [
    "df['issuance_date'].dt.year.value_counts() "
   ]
  },
  {
   "cell_type": "markdown",
   "metadata": {},
   "source": [
    "Calulate the percent change of permits issued over the years"
   ]
  },
  {
   "cell_type": "code",
   "execution_count": 10,
   "metadata": {},
   "outputs": [
    {
     "data": {
      "text/plain": [
       "1989.0         NaN\n",
       "1990.0    6.740317\n",
       "1991.0    0.939776\n",
       "1992.0    0.153618\n",
       "1993.0    0.102594\n",
       "1994.0    0.053896\n",
       "1995.0    0.031996\n",
       "1996.0    0.059218\n",
       "1997.0    0.091837\n",
       "1998.0    0.133832\n",
       "1999.0    0.108921\n",
       "2000.0    0.100865\n",
       "2001.0    0.045543\n",
       "2002.0    0.063615\n",
       "2003.0    0.094862\n",
       "2004.0    0.126353\n",
       "2005.0    0.088660\n",
       "2006.0    0.037372\n",
       "2007.0    0.017365\n",
       "2008.0   -0.045729\n",
       "2009.0   -0.095126\n",
       "2010.0    0.002062\n",
       "2011.0    0.058666\n",
       "2012.0    0.028781\n",
       "2013.0    0.085627\n",
       "2014.0    0.060808\n",
       "2015.0    0.068630\n",
       "2016.0    0.046839\n",
       "2017.0    0.024781\n",
       "2018.0   -0.133491\n",
       "2019.0   -0.362805\n",
       "Name: issuance_date, dtype: float64"
      ]
     },
     "execution_count": 10,
     "metadata": {},
     "output_type": "execute_result"
    }
   ],
   "source": [
    "df['issuance_date'].dt.year.value_counts().sort_index().pct_change() "
   ]
  },
  {
   "cell_type": "markdown",
   "metadata": {},
   "source": [
    "**Sorting index so data is in order by year and then plotting the permit data**"
   ]
  },
  {
   "cell_type": "code",
   "execution_count": 11,
   "metadata": {},
   "outputs": [
    {
     "data": {
      "image/png": "[encoded data removed]",
      "text/plain": [
       "<Figure size 864x504 with 1 Axes>"
      ]
     },
     "metadata": {
      "needs_background": "light"
     },
     "output_type": "display_data"
    }
   ],
   "source": [
    "fig = plt.figure(figsize=(12,7))\n",
    "df['issuance_date'].dt.year.value_counts().sort_index().plot(kind='bar')\n",
    "\n",
    "plt.title('Building Permits Issued per Year', size=14)\n",
    "plt.xlabel('Year', size=12)\n",
    "plt.ylabel('Count', size=12)\n",
    "plt.ylim(0,200000)\n",
    "plt.xticks(rotation='90')\n",
    "plt.show()"
   ]
  },
  {
   "cell_type": "markdown",
   "metadata": {},
   "source": [
    "**Return all data where the year does not equal 2017**"
   ]
  },
  {
   "cell_type": "code",
   "execution_count": 12,
   "metadata": {},
   "outputs": [],
   "source": [
    "df = df[df['issuance_date'].dt.year != 2017] "
   ]
  },
  {
   "cell_type": "code",
   "execution_count": 13,
   "metadata": {},
   "outputs": [
    {
     "data": {
      "text/plain": [
       "EW    1470307\n",
       "PL     668399\n",
       "EQ     501865\n",
       "AL     295230\n",
       "NB     214138\n",
       "SG      71026\n",
       "DM      48179\n",
       "FO      39453\n",
       "Name: permit_type, dtype: int64"
      ]
     },
     "execution_count": 13,
     "metadata": {},
     "output_type": "execute_result"
    }
   ],
   "source": [
    "df['permit_type'].value_counts().sort_values(ascending=False)"
   ]
  },
  {
   "cell_type": "markdown",
   "metadata": {},
   "source": [
    "Changing the names to make them more readable. Use map function to set new values."
   ]
  },
  {
   "cell_type": "code",
   "execution_count": 14,
   "metadata": {},
   "outputs": [],
   "source": [
    "df['permit_type'] = df['permit_type'].map({'EW': 'Equipment Work', 'PL': 'Plumbing',\n",
    "                                            'EQ': 'Construction Equipment', 'AL': 'Alteration',\n",
    "                                            'NB': 'New Building', 'FO': 'Foundation',\n",
    "                                            'SG': 'Sign', 'DM': 'Demolition'}) "
   ]
  },
  {
   "cell_type": "code",
   "execution_count": 15,
   "metadata": {},
   "outputs": [
    {
     "data": {
      "image/png": "[encoded data removed]",
      "text/plain": [
       "<Figure size 1008x504 with 1 Axes>"
      ]
     },
     "metadata": {
      "needs_background": "light"
     },
     "output_type": "display_data"
    }
   ],
   "source": [
    "fig = plt.figure(figsize=(14,7))\n",
    "\n",
    "df['permit_type'].value_counts().plot(kind='bar')\n",
    "\n",
    "plt.title('Permits Issued by Type', size=14)\n",
    "plt.ylabel('Count', size=12)\n",
    "plt.xticks(rotation='horizontal')\n",
    "plt.show()"
   ]
  },
  {
   "cell_type": "markdown",
   "metadata": {},
   "source": [
    "Where were most building permits issued between 2013-2016?"
   ]
  },
  {
   "cell_type": "markdown",
   "metadata": {},
   "source": [
    "**Counting the # of permits by borough**"
   ]
  },
  {
   "cell_type": "code",
   "execution_count": 16,
   "metadata": {},
   "outputs": [
    {
     "data": {
      "text/plain": [
       "MANHATTAN        1385441\n",
       "BROOKLYN          761664\n",
       "QUEENS            687466\n",
       "BRONX             280257\n",
       "STATEN ISLAND     193770\n",
       "Name: borough, dtype: int64"
      ]
     },
     "execution_count": 16,
     "metadata": {},
     "output_type": "execute_result"
    }
   ],
   "source": [
    "df['borough'].value_counts() "
   ]
  },
  {
   "cell_type": "markdown",
   "metadata": {},
   "source": [
    "**Plotting the Building Permits Issued by Borough**"
   ]
  },
  {
   "cell_type": "code",
   "execution_count": 17,
   "metadata": {},
   "outputs": [
    {
     "data": {
      "image/png": "[encoded data removed]",
      "text/plain": [
       "<Figure size 1008x504 with 1 Axes>"
      ]
     },
     "metadata": {
      "needs_background": "light"
     },
     "output_type": "display_data"
    }
   ],
   "source": [
    "fig = plt.figure(figsize=(14,7))\n",
    "df['borough'].value_counts().plot(kind='bar')\n",
    "\n",
    "plt.title('Building Permits Issued by Borough', size=14)\n",
    "plt.ylabel('Count', size=12)\n",
    "plt.xticks(rotation='horizontal')\n",
    "plt.show()"
   ]
  },
  {
   "cell_type": "markdown",
   "metadata": {},
   "source": [
    "What percentage of the total permits have been issued for Manhattan? Brooklyn?"
   ]
  },
  {
   "cell_type": "markdown",
   "metadata": {},
   "source": [
    "**Dividing the number of Manhattan records by the entire data set**"
   ]
  },
  {
   "cell_type": "code",
   "execution_count": 18,
   "metadata": {},
   "outputs": [
    {
     "data": {
      "text/plain": [
       "0.41873959906885033"
      ]
     },
     "execution_count": 18,
     "metadata": {},
     "output_type": "execute_result"
    }
   ],
   "source": [
    "len(df[df['borough'] == 'MANHATTAN']) / len(df) "
   ]
  },
  {
   "cell_type": "markdown",
   "metadata": {},
   "source": [
    "**Dividing the number of Brooklyn records by the entire data set**"
   ]
  },
  {
   "cell_type": "code",
   "execution_count": 19,
   "metadata": {},
   "outputs": [
    {
     "data": {
      "text/plain": [
       "0.23020747760834046"
      ]
     },
     "execution_count": 19,
     "metadata": {},
     "output_type": "execute_result"
    }
   ],
   "source": [
    "len(df[df['borough'] == 'BROOKLYN']) / len(df) "
   ]
  },
  {
   "cell_type": "markdown",
   "metadata": {},
   "source": [
    "What percentage of borough permits are for residential projects?"
   ]
  },
  {
   "cell_type": "code",
   "execution_count": 20,
   "metadata": {},
   "outputs": [
    {
     "name": "stdout",
     "output_type": "stream",
     "text": [
      "\n",
      "BROOKLYN\n",
      "Series([], Name: residential, dtype: float64)\n",
      "\n",
      "MANHATTAN\n",
      "Series([], Name: residential, dtype: float64)\n",
      "\n",
      "QUEENS\n",
      "Series([], Name: residential, dtype: float64)\n",
      "\n",
      "STATEN ISLAND\n",
      "Series([], Name: residential, dtype: float64)\n",
      "\n",
      "BRONX\n",
      "Series([], Name: residential, dtype: float64)\n"
     ]
    }
   ],
   "source": [
    "boroughs = ['BROOKLYN', 'MANHATTAN', 'QUEENS', 'STATEN ISLAND', 'BRONX'] #list of borough names to pass to for loop\n",
    "\n",
    "for i in boroughs:\n",
    "    \"\"\"\n",
    "    this for loop returns the percentage of residential permits\n",
    "    within each borough\n",
    "\n",
    "    count the number of residential permits then divide by the\n",
    "    total number of borough permits\n",
    "    \"\"\"\n",
    "    print ('\\n' + i)\n",
    "    print (df[df['borough'] == i]['residential'].value_counts() / len(df[df['borough'] == i]))"
   ]
  },
  {
   "cell_type": "markdown",
   "metadata": {},
   "source": [
    "**Looks like Manhattan is the only borough to issue more permits for commercial projects than residential!**"
   ]
  },
  {
   "cell_type": "markdown",
   "metadata": {},
   "source": [
    "How many permits have been issued by zip code?\n",
    "Now we are going count the number of permits by zipcode then sorting them"
   ]
  },
  {
   "cell_type": "code",
   "execution_count": 21,
   "metadata": {},
   "outputs": [
    {
     "data": {
      "text/plain": [
       "0.0           24\n",
       "4452.0         4\n",
       "10000.0      174\n",
       "10001.0    53063\n",
       "10002.0    33468\n",
       "Name: zipcode, dtype: int64"
      ]
     },
     "execution_count": 21,
     "metadata": {},
     "output_type": "execute_result"
    }
   ],
   "source": [
    "df['zipcode'].value_counts().sort_index().head(5) "
   ]
  },
  {
   "cell_type": "markdown",
   "metadata": {},
   "source": [
    "**We will bring back only zip codes that are greater or equal to 10,000**"
   ]
  },
  {
   "cell_type": "code",
   "execution_count": 22,
   "metadata": {},
   "outputs": [],
   "source": [
    "df = df[df['zipcode'] >= 10000] "
   ]
  },
  {
   "cell_type": "markdown",
   "metadata": {},
   "source": [
    "Review the five zip codes with most permits issued"
   ]
  },
  {
   "cell_type": "code",
   "execution_count": 23,
   "metadata": {},
   "outputs": [
    {
     "data": {
      "text/plain": [
       "10022.0    85751\n",
       "10019.0    70904\n",
       "10013.0    63039\n",
       "10011.0    61821\n",
       "10003.0    60759\n",
       "Name: zipcode, dtype: int64"
      ]
     },
     "execution_count": 23,
     "metadata": {},
     "output_type": "execute_result"
    }
   ],
   "source": [
    "df['zipcode'].value_counts().sort_values(ascending=False).head(5) "
   ]
  },
  {
   "cell_type": "markdown",
   "metadata": {},
   "source": [
    "It is helpful to know the 5 zip codes with the most permits issues but it doesn’t tell me where they are in the city. Let’s map the data to get an idea of where these are located, through visual inspection."
   ]
  },
  {
   "cell_type": "code",
   "execution_count": 24,
   "metadata": {},
   "outputs": [
    {
     "data": {
      "text/plain": [
       "ZIPCODE         object\n",
       "BLDGZIP         object\n",
       "PO_NAME         object\n",
       "POPULATION     float64\n",
       "AREA           float64\n",
       "STATE           object\n",
       "COUNTY          object\n",
       "ST_FIPS         object\n",
       "CTY_FIPS        object\n",
       "URL             object\n",
       "SHAPE_AREA     float64\n",
       "SHAPE_LEN      float64\n",
       "geometry      geometry\n",
       "zip_code         int64\n",
       "dtype: object"
      ]
     },
     "execution_count": 24,
     "metadata": {},
     "output_type": "execute_result"
    }
   ],
   "source": [
    "zip_codes = gpd.read_file('/Users/Cindy/Desktop/AAE STUFF/550/brooklynhomes2003to2017/ZIP_CODE_040114/ZIP_CODE_040114.shp')\n",
    "zip_codes['zip_code'] = zip_codes['ZIPCODE'].astype(int)\n",
    "zip_codes.dtypes"
   ]
  },
  {
   "cell_type": "code",
   "execution_count": 25,
   "metadata": {},
   "outputs": [],
   "source": [
    "counts = zip_codes['zip_code'].value_counts()\n",
    "counts = counts.to_frame(name='count')\n",
    "counts = counts.reset_index()"
   ]
  },
  {
   "cell_type": "code",
   "execution_count": 26,
   "metadata": {},
   "outputs": [],
   "source": [
    "counts = gpd.GeoDataFrame(counts.merge(zip_codes, how='left', left_on='index', right_on='zip_code'))"
   ]
  },
  {
   "cell_type": "code",
   "execution_count": 27,
   "metadata": {},
   "outputs": [
    {
     "data": {
      "image/png": "[encoded data removed]",
      "text/plain": [
       "<Figure size 576x576 with 1 Axes>"
      ]
     },
     "metadata": {
      "needs_background": "light"
     },
     "output_type": "display_data"
    }
   ],
   "source": [
    "fig, ax = plt.subplots(figsize = (8,8))\n",
    "\n",
    "counts.plot(column='count', cmap='Blues',alpha=1,linewidth=0.1, ax=ax)\n",
    "\n",
    "plt.title('Building Permits by Zipcode', size=20)\n",
    "plt.axis('off')\n",
    "plt.show()"
   ]
  },
  {
   "cell_type": "markdown",
   "metadata": {},
   "source": [
    "The heatmap is darker in areas with more permits issued, and lighter in areas with fewer permits issued.\n",
    "\n",
    "Conclusion\n",
    "\n",
    "Between the years 2013-2016, the New York City Department of Buildings issued over 600,000 building permits, where 44% of them were for work in the borough of Manhattan. There was a 51% spike in the number of building permits issued from the year 2013 to 2014, which seems to be pretty significant. In further exploration, one might dig a bit deeper to find out why there was such an increase between those years.\n",
    "\n",
    "The New York City neighborhood Midtown East (zip code 10022) had the greatest number of permits issued between 2013- 2016. Midtown East is the home of the famous 5th Avenue shopping district, St. Patrick’s Cathedral, and a host of other attractions. Considering the area generates a ton of traffic from tourists, shoppers, and workers alike, it is unsurprising that a high volume construction work is done to maintain the area and continue to drive the NYC economy. Such construction could have also been in anticipation of the new MTA yellow line train, the Q train, which runs along 2nd avenue on the east side and opened in January 2017.\n",
    "\n",
    "Visualizing the building permits issued by zipcode provides better context for where permits have been issued. Merging the building data with a shape file allows you to display the density of building permits issued and locate the hotspots. For someone unfamiliar with zip codes in New York, the visual representation provides clues to spatial positioning. For example, one can see that the darkest spot is right beneath Central Park, which is more informative than simply identifying the darkest spot as zip code 10022.\n",
    "\n"
   ]
  },
  {
   "cell_type": "markdown",
   "metadata": {},
   "source": [
    "#### Step 3: What type of variables are in the table"
   ]
  },
  {
   "cell_type": "code",
   "execution_count": 28,
   "metadata": {},
   "outputs": [
    {
     "name": "stdout",
     "output_type": "stream",
     "text": [
      "Describe Data\n",
      "          Unnamed: 0   borough          block            lot  easement  \\\n",
      "count  390883.000000  390883.0  390883.000000  390883.000000       0.0   \n",
      "mean   195442.000000       3.0    4275.651169     272.509986       NaN   \n",
      "std    112838.346973       0.0    2642.765332     484.658837       NaN   \n",
      "min         1.000000       3.0       1.000000       1.000000       NaN   \n",
      "25%     97721.500000       3.0    1786.000000      21.000000       NaN   \n",
      "50%    195442.000000       3.0    4305.000000      45.000000       NaN   \n",
      "75%    293162.500000       3.0    6585.000000      94.000000       NaN   \n",
      "max    390883.000000       3.0    8955.000000    9133.000000       NaN   \n",
      "\n",
      "            zip_code  residential_units  commercial_units    total_units  \\\n",
      "count  390883.000000      390883.000000     390883.000000  390883.000000   \n",
      "mean    11208.429087           2.486138          0.174142       2.673227   \n",
      "std       361.207836          48.200178          1.653362      48.233343   \n",
      "min         0.000000           0.000000          0.000000       0.000000   \n",
      "25%     11209.000000           1.000000          0.000000       1.000000   \n",
      "50%     11219.000000           1.000000          0.000000       1.000000   \n",
      "75%     11230.000000           2.000000          0.000000       2.000000   \n",
      "max     33803.000000       20811.000000        355.000000   20811.000000   \n",
      "\n",
      "          land_sqft  ...        XCoord         YCoord         TaxMap  \\\n",
      "count  3.908830e+05  ...  3.037280e+05  303728.000000  303710.000000   \n",
      "mean   2.368464e+03  ...  9.921077e+05  175146.073694   31396.728152   \n",
      "std    2.509129e+04  ...  7.391759e+04   18390.569903     754.905314   \n",
      "min    0.000000e+00  ...  0.000000e+00       0.000000       3.000000   \n",
      "25%    0.000000e+00  ...  9.892368e+05  165334.750000   30611.000000   \n",
      "50%    1.900000e+03  ...  9.975955e+05  175906.000000   31506.000000   \n",
      "75%    2.500000e+03  ...  1.005059e+06  187140.000000   32005.000000   \n",
      "max    7.446955e+06  ...  1.024202e+06  208406.000000   32605.000000   \n",
      "\n",
      "             APPBBL     PLUTOMapID  FIRM07_FLA  PFIRM15_FL     MAPPLUTO_F  \\\n",
      "count  3.037280e+05  303728.000000      8653.0     27773.0  303728.000000   \n",
      "mean   1.927884e+08       1.000145         1.0         1.0       0.000244   \n",
      "std    7.409608e+08       0.017021         0.0         0.0       0.036740   \n",
      "min    0.000000e+00       1.000000         1.0         1.0       0.000000   \n",
      "25%    0.000000e+00       1.000000         1.0         1.0       0.000000   \n",
      "50%    0.000000e+00       1.000000         1.0         1.0       0.000000   \n",
      "75%    0.000000e+00       1.000000         1.0         1.0       0.000000   \n",
      "max    3.089321e+09       3.000000         1.0         1.0       7.000000   \n",
      "\n",
      "          SHAPE_Leng    SHAPE_Area  \n",
      "count  303728.000000  3.037280e+05  \n",
      "mean      337.445796  8.645885e+03  \n",
      "std       329.587401  3.116106e+04  \n",
      "min         2.143758  1.007072e-01  \n",
      "25%       238.997798  1.938904e+03  \n",
      "50%       249.411350  2.316886e+03  \n",
      "75%       283.169119  3.478477e+03  \n",
      "max     19861.521019  7.149338e+06  \n",
      "\n",
      "[8 rows x 75 columns]\n",
      "Summarized Data\n",
      "              neighborhood building_class_category tax_class building_class  \\\n",
      "count               390883                  390800    383949         383949   \n",
      "unique                  64                      88        10            183   \n",
      "top     BEDFORD STUYVESANT     02 TWO FAMILY HOMES         1             C0   \n",
      "freq                 27279                  106127    198969          39996   \n",
      "\n",
      "                  address apartment_number building_class_at_sale   sale_date  \\\n",
      "count              390882            85616                 390883      390883   \n",
      "unique             226076             5734                    187        5377   \n",
      "top     2 NORTHSIDE PIERS                4                     C0  2006-08-31   \n",
      "freq                  650             3681                  38691        1133   \n",
      "\n",
      "       Borough FireComp  ...    Ext IrrLotCode  \\\n",
      "count   303728   303480  ...  66133     303706   \n",
      "unique       1      102  ...      3          2   \n",
      "top         BK     L170  ...      G          N   \n",
      "freq    303728    10093  ...  44790     252341   \n",
      "\n",
      "                                  HistDist               Landmark ZoneMap  \\\n",
      "count                                19674                    126  303728   \n",
      "unique                                  35                     55      32   \n",
      "top     Brooklyn Heights Historic District  PUBLIC SCHOOL 9 ANNEX     17a   \n",
      "freq                                  3974                     12   32613   \n",
      "\n",
      "       ZMCode  Sanborn EDesigNum     APPDate Version  \n",
      "count    6112   303710      3554       19259  303728  \n",
      "unique      1     1542       115        2125       1  \n",
      "top         Y  306 049     E-138  01/03/1992  17V1.1  \n",
      "freq     6112     1047       688         238  303728  \n",
      "\n",
      "[4 rows x 36 columns]\n"
     ]
    },
    {
     "data": {
      "text/plain": [
       "Unnamed: 0                   int64\n",
       "borough                      int64\n",
       "neighborhood                object\n",
       "building_class_category     object\n",
       "tax_class                   object\n",
       "                            ...   \n",
       "PFIRM15_FL                 float64\n",
       "Version                     object\n",
       "MAPPLUTO_F                 float64\n",
       "SHAPE_Leng                 float64\n",
       "SHAPE_Area                 float64\n",
       "Length: 111, dtype: object"
      ]
     },
     "execution_count": 28,
     "metadata": {},
     "output_type": "execute_result"
    }
   ],
   "source": [
    "print(\"Describe Data\")\n",
    "print(housing_data.describe())\n",
    "print(\"Summarized Data\")\n",
    "print(housing_data.describe(include=['O']))\n",
    "\n",
    "# this will return the datatypes of the columns\n",
    "housing_data.dtypes"
   ]
  },
  {
   "cell_type": "code",
   "execution_count": 29,
   "metadata": {},
   "outputs": [
    {
     "name": "stdout",
     "output_type": "stream",
     "text": [
      "<class 'pandas.core.frame.DataFrame'>\n",
      "RangeIndex: 390883 entries, 0 to 390882\n",
      "Columns: 111 entries, Unnamed: 0 to SHAPE_Area\n",
      "dtypes: float64(64), int64(11), object(36)\n",
      "memory usage: 331.0+ MB\n"
     ]
    }
   ],
   "source": [
    "housing_data.info()"
   ]
  },
  {
   "cell_type": "code",
   "execution_count": 30,
   "metadata": {},
   "outputs": [
    {
     "name": "stdout",
     "output_type": "stream",
     "text": [
      "390883\n"
     ]
    }
   ],
   "source": [
    "print(len(housing_data))"
   ]
  },
  {
   "cell_type": "code",
   "execution_count": 31,
   "metadata": {},
   "outputs": [
    {
     "data": {
      "text/plain": [
       "Index(['Unnamed: 0', 'borough', 'neighborhood', 'building_class_category',\n",
       "       'tax_class', 'block', 'lot', 'easement', 'building_class', 'address',\n",
       "       ...\n",
       "       'EDesigNum', 'APPBBL', 'APPDate', 'PLUTOMapID', 'FIRM07_FLA',\n",
       "       'PFIRM15_FL', 'Version', 'MAPPLUTO_F', 'SHAPE_Leng', 'SHAPE_Area'],\n",
       "      dtype='object', length=111)"
      ]
     },
     "execution_count": 31,
     "metadata": {},
     "output_type": "execute_result"
    }
   ],
   "source": [
    "housing_data.columns"
   ]
  },
  {
   "cell_type": "markdown",
   "metadata": {},
   "source": [
    "#### Step 4: Create scatter plot, histogram and bar chart to display and identify outliers"
   ]
  },
  {
   "cell_type": "code",
   "execution_count": 32,
   "metadata": {},
   "outputs": [
    {
     "data": {
      "image/png": "[encoded data removed]",
      "text/plain": [
       "<Figure size 432x288 with 1 Axes>"
      ]
     },
     "metadata": {
      "needs_background": "light"
     },
     "output_type": "display_data"
    }
   ],
   "source": [
    "plt.scatter(x=housing_data['year_of_sale'],y=housing_data['sale_price'])\n",
    "ax =plt.gca()\n",
    "ax.get_yaxis().get_major_formatter().set_scientific(False)\n",
    "plt.draw()"
   ]
  },
  {
   "cell_type": "code",
   "execution_count": 33,
   "metadata": {},
   "outputs": [],
   "source": [
    "bins=[-100000000,20000,40000,60000,80000,100000,1000000,10000000,500000000]\n",
    "choices =['$0-$200k','$200k-$400k','$400k-$600k','$600k-$800k','$800k-$1mlln','$1mlln-$10mlln','$10mlln-$100mlln','$100mlln-$500mlln']\n",
    "housing_data['price_range']=pd.cut(housing_data['sale_price'],bins=bins,labels=choices)"
   ]
  },
  {
   "cell_type": "markdown",
   "metadata": {},
   "source": [
    "**Is or are there outliers present? If so, should they be removed from dataset and why?**"
   ]
  },
  {
   "cell_type": "code",
   "execution_count": 34,
   "metadata": {},
   "outputs": [
    {
     "data": {
      "text/html": [
       "<div>\n",
       "<style scoped>\n",
       "    .dataframe tbody tr th:only-of-type {\n",
       "        vertical-align: middle;\n",
       "    }\n",
       "\n",
       "    .dataframe tbody tr th {\n",
       "        vertical-align: top;\n",
       "    }\n",
       "\n",
       "    .dataframe thead th {\n",
       "        text-align: right;\n",
       "    }\n",
       "</style>\n",
       "<table border=\"1\" class=\"dataframe\">\n",
       "  <thead>\n",
       "    <tr style=\"text-align: right;\">\n",
       "      <th></th>\n",
       "      <th>Unnamed: 0</th>\n",
       "      <th>borough</th>\n",
       "      <th>neighborhood</th>\n",
       "      <th>building_class_category</th>\n",
       "      <th>tax_class</th>\n",
       "      <th>block</th>\n",
       "      <th>lot</th>\n",
       "      <th>easement</th>\n",
       "      <th>building_class</th>\n",
       "      <th>address</th>\n",
       "      <th>...</th>\n",
       "      <th>APPBBL</th>\n",
       "      <th>APPDate</th>\n",
       "      <th>PLUTOMapID</th>\n",
       "      <th>FIRM07_FLA</th>\n",
       "      <th>PFIRM15_FL</th>\n",
       "      <th>Version</th>\n",
       "      <th>MAPPLUTO_F</th>\n",
       "      <th>SHAPE_Leng</th>\n",
       "      <th>SHAPE_Area</th>\n",
       "      <th>price_range</th>\n",
       "    </tr>\n",
       "  </thead>\n",
       "  <tbody>\n",
       "    <tr>\n",
       "      <td>0</td>\n",
       "      <td>1</td>\n",
       "      <td>3</td>\n",
       "      <td>DOWNTOWN-METROTECH</td>\n",
       "      <td>28  COMMERCIAL CONDOS</td>\n",
       "      <td>4</td>\n",
       "      <td>140</td>\n",
       "      <td>1001</td>\n",
       "      <td>NaN</td>\n",
       "      <td>R5</td>\n",
       "      <td>330 JAY STREET</td>\n",
       "      <td>...</td>\n",
       "      <td>NaN</td>\n",
       "      <td>NaN</td>\n",
       "      <td>NaN</td>\n",
       "      <td>NaN</td>\n",
       "      <td>NaN</td>\n",
       "      <td>NaN</td>\n",
       "      <td>NaN</td>\n",
       "      <td>NaN</td>\n",
       "      <td>NaN</td>\n",
       "      <td>$100mlln-$500mlln</td>\n",
       "    </tr>\n",
       "  </tbody>\n",
       "</table>\n",
       "<p>1 rows × 112 columns</p>\n",
       "</div>"
      ],
      "text/plain": [
       "   Unnamed: 0  borough        neighborhood building_class_category tax_class  \\\n",
       "0           1        3  DOWNTOWN-METROTECH   28  COMMERCIAL CONDOS         4   \n",
       "\n",
       "   block   lot  easement building_class         address  ... APPBBL  APPDate  \\\n",
       "0    140  1001       NaN             R5  330 JAY STREET  ...    NaN      NaN   \n",
       "\n",
       "   PLUTOMapID  FIRM07_FLA  PFIRM15_FL  Version  MAPPLUTO_F  SHAPE_Leng  \\\n",
       "0         NaN         NaN         NaN      NaN         NaN         NaN   \n",
       "\n",
       "   SHAPE_Area        price_range  \n",
       "0         NaN  $100mlln-$500mlln  \n",
       "\n",
       "[1 rows x 112 columns]"
      ]
     },
     "execution_count": 34,
     "metadata": {},
     "output_type": "execute_result"
    }
   ],
   "source": [
    "housing_data.sort_values('sale_price').tail(1)\n"
   ]
  },
  {
   "cell_type": "code",
   "execution_count": 35,
   "metadata": {},
   "outputs": [
    {
     "data": {
      "text/plain": [
       "count       390883.000000\n",
       "mean        506754.477693\n",
       "std        2353964.664220\n",
       "min              0.000000\n",
       "25%              0.000000\n",
       "50%         275000.000000\n",
       "75%         593000.000000\n",
       "max      499401179.000000\n",
       "Name: sale_price, dtype: object"
      ]
     },
     "execution_count": 35,
     "metadata": {},
     "output_type": "execute_result"
    }
   ],
   "source": [
    "housing_data['sale_price'].describe().apply(lambda x: format(x, 'f'))"
   ]
  },
  {
   "cell_type": "code",
   "execution_count": 36,
   "metadata": {},
   "outputs": [],
   "source": [
    "housing_data = housing_data[housing_data.sale_price > 0]"
   ]
  },
  {
   "cell_type": "code",
   "execution_count": 37,
   "metadata": {},
   "outputs": [],
   "source": [
    "def remove_outlier(df, col):\n",
    "  q1 = df[col].quantile(0.25)\n",
    "  q3 = df[col].quantile(0.75)\n",
    "  iqr = q3 - q1\n",
    "  lower_bound  = q1 - (1.5  * iqr)\n",
    "  upper_bound = q3 + (1.5 * iqr)\n",
    "  out_df = df.loc[(df[col] > lower_bound) & (df[col] < upper_bound)]\n",
    "  return out_df\n",
    "housing_data = remove_outlier(housing_data,\"sale_price\")"
   ]
  },
  {
   "cell_type": "markdown",
   "metadata": {},
   "source": [
    "#### Step 5: Data preparation, clean data by removing puctuation etc."
   ]
  },
  {
   "cell_type": "code",
   "execution_count": 38,
   "metadata": {},
   "outputs": [],
   "source": [
    "housing_data = housing_data.drop(['APPBBL','BoroCode','Borough','BBL','price_range','PLUTOMapID','YearBuilt','CondoNo','BuiltFAR','FireComp','MAPPLUTO_F','Sanborn','SanitBoro','Unnamed: 0','Version', 'block','borough','Address','OwnerName','zip_code'],axis=1)\n"
   ]
  },
  {
   "cell_type": "code",
   "execution_count": 39,
   "metadata": {},
   "outputs": [],
   "source": [
    "housing_data = housing_data.apply(lambda x: x.fillna(x.median()) if x.dtype.kind in 'iufc' else x.fillna(x.mode()[0]))\n"
   ]
  },
  {
   "cell_type": "code",
   "execution_count": 40,
   "metadata": {},
   "outputs": [],
   "source": [
    "housing_data['Age of House at Sale'] = housing_data['year_of_sale'] - housing_data['year_built']\n",
    "housing_data = housing_data.drop(['year_of_sale','year_built'],axis=1)"
   ]
  },
  {
   "cell_type": "markdown",
   "metadata": {},
   "source": [
    "#### Step 6: Provide a summary of statistics analysis"
   ]
  },
  {
   "cell_type": "code",
   "execution_count": 41,
   "metadata": {},
   "outputs": [
    {
     "data": {
      "text/plain": [
       "count     231108.000000\n",
       "mean      503518.978659\n",
       "std       304128.424828\n",
       "min            1.000000\n",
       "25%       285000.000000\n",
       "50%       465000.000000\n",
       "75%       675000.000000\n",
       "max      1437306.000000\n",
       "Name: sale_price, dtype: object"
      ]
     },
     "execution_count": 41,
     "metadata": {},
     "output_type": "execute_result"
    }
   ],
   "source": [
    "housing_data['sale_price'].describe().apply(lambda x: format(x, 'f'))"
   ]
  },
  {
   "cell_type": "code",
   "execution_count": 42,
   "metadata": {},
   "outputs": [],
   "source": [
    "#change strings to ints ( categorical to numerical )\n",
    "def strnums(cols):\n",
    "  return dict(zip(set(housing_data[cols]),list(range(0,len(set(housing_data[cols]))))))\n",
    "for columns in set(housing_data.select_dtypes(exclude='number')):\n",
    "  housing_data[columns] = housing_data[columns].map(strnums(columns))"
   ]
  },
  {
   "cell_type": "markdown",
   "metadata": {},
   "source": [
    "#### Provide stacked bar visualization of sale prices in pricing ranges by year "
   ]
  },
  {
   "cell_type": "code",
   "execution_count": 43,
   "metadata": {},
   "outputs": [],
   "source": [
    "bins=[-100000000,20000,40000,60000,80000,100000,1000000,10000000,500000000]\n",
    "choices =['$0-$200k','$200k-$400k','$400k-$600k','$600k-$800k','$800k-$1mlln','$1mlln-$10mlln','$10mlln-$100mlln','$100mlln-$500mlln']\n",
    "housing_data['price_range']=pd.cut(housing_data['sale_price'],bins=bins,labels=choices)"
   ]
  },
  {
   "cell_type": "markdown",
   "metadata": {},
   "source": [
    "#### created a function and utilised list comprehension to convert sales data of each year into percentages."
   ]
  },
  {
   "cell_type": "code",
   "execution_count": 44,
   "metadata": {},
   "outputs": [
    {
     "ename": "KeyError",
     "evalue": "'year_of_sale'",
     "output_type": "error",
     "traceback": [
      "\u001b[0;31m---------------------------------------------------------------------------\u001b[0m",
      "\u001b[0;31mKeyError\u001b[0m                                  Traceback (most recent call last)",
      "\u001b[0;32m~/opt/anaconda3/lib/python3.7/site-packages/pandas/core/indexes/base.py\u001b[0m in \u001b[0;36mget_loc\u001b[0;34m(self, key, method, tolerance)\u001b[0m\n\u001b[1;32m   2896\u001b[0m             \u001b[0;32mtry\u001b[0m\u001b[0;34m:\u001b[0m\u001b[0;34m\u001b[0m\u001b[0;34m\u001b[0m\u001b[0m\n\u001b[0;32m-> 2897\u001b[0;31m                 \u001b[0;32mreturn\u001b[0m \u001b[0mself\u001b[0m\u001b[0;34m.\u001b[0m\u001b[0m_engine\u001b[0m\u001b[0;34m.\u001b[0m\u001b[0mget_loc\u001b[0m\u001b[0;34m(\u001b[0m\u001b[0mkey\u001b[0m\u001b[0;34m)\u001b[0m\u001b[0;34m\u001b[0m\u001b[0;34m\u001b[0m\u001b[0m\n\u001b[0m\u001b[1;32m   2898\u001b[0m             \u001b[0;32mexcept\u001b[0m \u001b[0mKeyError\u001b[0m\u001b[0;34m:\u001b[0m\u001b[0;34m\u001b[0m\u001b[0;34m\u001b[0m\u001b[0m\n",
      "\u001b[0;32mpandas/_libs/index.pyx\u001b[0m in \u001b[0;36mpandas._libs.index.IndexEngine.get_loc\u001b[0;34m()\u001b[0m\n",
      "\u001b[0;32mpandas/_libs/index.pyx\u001b[0m in \u001b[0;36mpandas._libs.index.IndexEngine.get_loc\u001b[0;34m()\u001b[0m\n",
      "\u001b[0;32mpandas/_libs/hashtable_class_helper.pxi\u001b[0m in \u001b[0;36mpandas._libs.hashtable.PyObjectHashTable.get_item\u001b[0;34m()\u001b[0m\n",
      "\u001b[0;32mpandas/_libs/hashtable_class_helper.pxi\u001b[0m in \u001b[0;36mpandas._libs.hashtable.PyObjectHashTable.get_item\u001b[0;34m()\u001b[0m\n",
      "\u001b[0;31mKeyError\u001b[0m: 'year_of_sale'",
      "\nDuring handling of the above exception, another exception occurred:\n",
      "\u001b[0;31mKeyError\u001b[0m                                  Traceback (most recent call last)",
      "\u001b[0;32m<ipython-input-44-9575b1c40268>\u001b[0m in \u001b[0;36m<module>\u001b[0;34m\u001b[0m\n\u001b[1;32m      1\u001b[0m \u001b[0;32mdef\u001b[0m \u001b[0mconv\u001b[0m\u001b[0;34m(\u001b[0m\u001b[0myear\u001b[0m\u001b[0;34m)\u001b[0m\u001b[0;34m:\u001b[0m\u001b[0;34m\u001b[0m\u001b[0;34m\u001b[0m\u001b[0m\n\u001b[1;32m      2\u001b[0m   \u001b[0;32mreturn\u001b[0m \u001b[0mhousing_data\u001b[0m\u001b[0;34m[\u001b[0m\u001b[0mhousing_data\u001b[0m\u001b[0;34m[\u001b[0m\u001b[0;34m'year_of_sale'\u001b[0m\u001b[0;34m]\u001b[0m\u001b[0;34m==\u001b[0m\u001b[0myear\u001b[0m\u001b[0;34m]\u001b[0m\u001b[0;34m.\u001b[0m\u001b[0mgroupby\u001b[0m\u001b[0;34m(\u001b[0m\u001b[0;34m'price_range'\u001b[0m\u001b[0;34m)\u001b[0m\u001b[0;34m.\u001b[0m\u001b[0msize\u001b[0m\u001b[0;34m(\u001b[0m\u001b[0;34m)\u001b[0m\u001b[0;34m\u001b[0m\u001b[0;34m\u001b[0m\u001b[0m\n\u001b[0;32m----> 3\u001b[0;31m \u001b[0mperc_total\u001b[0m \u001b[0;34m=\u001b[0m \u001b[0;34m[\u001b[0m\u001b[0mx\u001b[0m\u001b[0;34m/\u001b[0m\u001b[0msum\u001b[0m\u001b[0;34m(\u001b[0m\u001b[0mx\u001b[0m\u001b[0;34m)\u001b[0m\u001b[0;34m*\u001b[0m\u001b[0;36m100\u001b[0m \u001b[0;32mfor\u001b[0m \u001b[0mx\u001b[0m \u001b[0;32min\u001b[0m \u001b[0;34m[\u001b[0m\u001b[0mconv\u001b[0m\u001b[0;34m(\u001b[0m\u001b[0;36m2003\u001b[0m\u001b[0;34m)\u001b[0m\u001b[0;34m,\u001b[0m\u001b[0mconv\u001b[0m\u001b[0;34m(\u001b[0m\u001b[0;36m2004\u001b[0m\u001b[0;34m)\u001b[0m\u001b[0;34m,\u001b[0m\u001b[0mconv\u001b[0m\u001b[0;34m(\u001b[0m\u001b[0;36m2005\u001b[0m\u001b[0;34m)\u001b[0m\u001b[0;34m,\u001b[0m\u001b[0mconv\u001b[0m\u001b[0;34m(\u001b[0m\u001b[0;36m2006\u001b[0m\u001b[0;34m)\u001b[0m\u001b[0;34m,\u001b[0m\u001b[0mconv\u001b[0m\u001b[0;34m(\u001b[0m\u001b[0;36m2007\u001b[0m\u001b[0;34m)\u001b[0m\u001b[0;34m,\u001b[0m\u001b[0mconv\u001b[0m\u001b[0;34m(\u001b[0m\u001b[0;36m2008\u001b[0m\u001b[0;34m)\u001b[0m\u001b[0;34m,\u001b[0m\u001b[0mconv\u001b[0m\u001b[0;34m(\u001b[0m\u001b[0;36m2009\u001b[0m\u001b[0;34m)\u001b[0m\u001b[0;34m,\u001b[0m\u001b[0mconv\u001b[0m\u001b[0;34m(\u001b[0m\u001b[0;36m2010\u001b[0m\u001b[0;34m)\u001b[0m\u001b[0;34m,\u001b[0m\u001b[0mconv\u001b[0m\u001b[0;34m(\u001b[0m\u001b[0;36m2011\u001b[0m\u001b[0;34m)\u001b[0m\u001b[0;34m,\u001b[0m\u001b[0mconv\u001b[0m\u001b[0;34m(\u001b[0m\u001b[0;36m2012\u001b[0m\u001b[0;34m)\u001b[0m\u001b[0;34m,\u001b[0m\u001b[0mconv\u001b[0m\u001b[0;34m(\u001b[0m\u001b[0;36m2013\u001b[0m\u001b[0;34m)\u001b[0m\u001b[0;34m,\u001b[0m\u001b[0mconv\u001b[0m\u001b[0;34m(\u001b[0m\u001b[0;36m2014\u001b[0m\u001b[0;34m)\u001b[0m\u001b[0;34m,\u001b[0m\u001b[0mconv\u001b[0m\u001b[0;34m(\u001b[0m\u001b[0;36m2015\u001b[0m\u001b[0;34m)\u001b[0m\u001b[0;34m,\u001b[0m\u001b[0mconv\u001b[0m\u001b[0;34m(\u001b[0m\u001b[0;36m2016\u001b[0m\u001b[0;34m)\u001b[0m\u001b[0;34m,\u001b[0m\u001b[0mconv\u001b[0m\u001b[0;34m(\u001b[0m\u001b[0;36m2017\u001b[0m\u001b[0;34m)\u001b[0m\u001b[0;34m]\u001b[0m\u001b[0;34m]\u001b[0m\u001b[0;34m\u001b[0m\u001b[0;34m\u001b[0m\u001b[0m\n\u001b[0m\u001b[1;32m      4\u001b[0m \u001b[0myear_names\u001b[0m \u001b[0;34m=\u001b[0m \u001b[0mlist\u001b[0m\u001b[0;34m(\u001b[0m\u001b[0mrange\u001b[0m\u001b[0;34m(\u001b[0m\u001b[0;36m2003\u001b[0m\u001b[0;34m,\u001b[0m\u001b[0;36m2018\u001b[0m\u001b[0;34m)\u001b[0m\u001b[0;34m)\u001b[0m\u001b[0;34m\u001b[0m\u001b[0;34m\u001b[0m\u001b[0m\n\u001b[1;32m      5\u001b[0m \u001b[0mhousing_df\u001b[0m \u001b[0;34m=\u001b[0m \u001b[0mpd\u001b[0m\u001b[0;34m.\u001b[0m\u001b[0mDataFrame\u001b[0m\u001b[0;34m(\u001b[0m\u001b[0mperc_total\u001b[0m\u001b[0;34m,\u001b[0m \u001b[0mindex\u001b[0m\u001b[0;34m=\u001b[0m \u001b[0myear_names\u001b[0m\u001b[0;34m)\u001b[0m\u001b[0;34m\u001b[0m\u001b[0;34m\u001b[0m\u001b[0m\n",
      "\u001b[0;32m<ipython-input-44-9575b1c40268>\u001b[0m in \u001b[0;36mconv\u001b[0;34m(year)\u001b[0m\n\u001b[1;32m      1\u001b[0m \u001b[0;32mdef\u001b[0m \u001b[0mconv\u001b[0m\u001b[0;34m(\u001b[0m\u001b[0myear\u001b[0m\u001b[0;34m)\u001b[0m\u001b[0;34m:\u001b[0m\u001b[0;34m\u001b[0m\u001b[0;34m\u001b[0m\u001b[0m\n\u001b[0;32m----> 2\u001b[0;31m   \u001b[0;32mreturn\u001b[0m \u001b[0mhousing_data\u001b[0m\u001b[0;34m[\u001b[0m\u001b[0mhousing_data\u001b[0m\u001b[0;34m[\u001b[0m\u001b[0;34m'year_of_sale'\u001b[0m\u001b[0;34m]\u001b[0m\u001b[0;34m==\u001b[0m\u001b[0myear\u001b[0m\u001b[0;34m]\u001b[0m\u001b[0;34m.\u001b[0m\u001b[0mgroupby\u001b[0m\u001b[0;34m(\u001b[0m\u001b[0;34m'price_range'\u001b[0m\u001b[0;34m)\u001b[0m\u001b[0;34m.\u001b[0m\u001b[0msize\u001b[0m\u001b[0;34m(\u001b[0m\u001b[0;34m)\u001b[0m\u001b[0;34m\u001b[0m\u001b[0;34m\u001b[0m\u001b[0m\n\u001b[0m\u001b[1;32m      3\u001b[0m \u001b[0mperc_total\u001b[0m \u001b[0;34m=\u001b[0m \u001b[0;34m[\u001b[0m\u001b[0mx\u001b[0m\u001b[0;34m/\u001b[0m\u001b[0msum\u001b[0m\u001b[0;34m(\u001b[0m\u001b[0mx\u001b[0m\u001b[0;34m)\u001b[0m\u001b[0;34m*\u001b[0m\u001b[0;36m100\u001b[0m \u001b[0;32mfor\u001b[0m \u001b[0mx\u001b[0m \u001b[0;32min\u001b[0m \u001b[0;34m[\u001b[0m\u001b[0mconv\u001b[0m\u001b[0;34m(\u001b[0m\u001b[0;36m2003\u001b[0m\u001b[0;34m)\u001b[0m\u001b[0;34m,\u001b[0m\u001b[0mconv\u001b[0m\u001b[0;34m(\u001b[0m\u001b[0;36m2004\u001b[0m\u001b[0;34m)\u001b[0m\u001b[0;34m,\u001b[0m\u001b[0mconv\u001b[0m\u001b[0;34m(\u001b[0m\u001b[0;36m2005\u001b[0m\u001b[0;34m)\u001b[0m\u001b[0;34m,\u001b[0m\u001b[0mconv\u001b[0m\u001b[0;34m(\u001b[0m\u001b[0;36m2006\u001b[0m\u001b[0;34m)\u001b[0m\u001b[0;34m,\u001b[0m\u001b[0mconv\u001b[0m\u001b[0;34m(\u001b[0m\u001b[0;36m2007\u001b[0m\u001b[0;34m)\u001b[0m\u001b[0;34m,\u001b[0m\u001b[0mconv\u001b[0m\u001b[0;34m(\u001b[0m\u001b[0;36m2008\u001b[0m\u001b[0;34m)\u001b[0m\u001b[0;34m,\u001b[0m\u001b[0mconv\u001b[0m\u001b[0;34m(\u001b[0m\u001b[0;36m2009\u001b[0m\u001b[0;34m)\u001b[0m\u001b[0;34m,\u001b[0m\u001b[0mconv\u001b[0m\u001b[0;34m(\u001b[0m\u001b[0;36m2010\u001b[0m\u001b[0;34m)\u001b[0m\u001b[0;34m,\u001b[0m\u001b[0mconv\u001b[0m\u001b[0;34m(\u001b[0m\u001b[0;36m2011\u001b[0m\u001b[0;34m)\u001b[0m\u001b[0;34m,\u001b[0m\u001b[0mconv\u001b[0m\u001b[0;34m(\u001b[0m\u001b[0;36m2012\u001b[0m\u001b[0;34m)\u001b[0m\u001b[0;34m,\u001b[0m\u001b[0mconv\u001b[0m\u001b[0;34m(\u001b[0m\u001b[0;36m2013\u001b[0m\u001b[0;34m)\u001b[0m\u001b[0;34m,\u001b[0m\u001b[0mconv\u001b[0m\u001b[0;34m(\u001b[0m\u001b[0;36m2014\u001b[0m\u001b[0;34m)\u001b[0m\u001b[0;34m,\u001b[0m\u001b[0mconv\u001b[0m\u001b[0;34m(\u001b[0m\u001b[0;36m2015\u001b[0m\u001b[0;34m)\u001b[0m\u001b[0;34m,\u001b[0m\u001b[0mconv\u001b[0m\u001b[0;34m(\u001b[0m\u001b[0;36m2016\u001b[0m\u001b[0;34m)\u001b[0m\u001b[0;34m,\u001b[0m\u001b[0mconv\u001b[0m\u001b[0;34m(\u001b[0m\u001b[0;36m2017\u001b[0m\u001b[0;34m)\u001b[0m\u001b[0;34m]\u001b[0m\u001b[0;34m]\u001b[0m\u001b[0;34m\u001b[0m\u001b[0;34m\u001b[0m\u001b[0m\n\u001b[1;32m      4\u001b[0m \u001b[0myear_names\u001b[0m \u001b[0;34m=\u001b[0m \u001b[0mlist\u001b[0m\u001b[0;34m(\u001b[0m\u001b[0mrange\u001b[0m\u001b[0;34m(\u001b[0m\u001b[0;36m2003\u001b[0m\u001b[0;34m,\u001b[0m\u001b[0;36m2018\u001b[0m\u001b[0;34m)\u001b[0m\u001b[0;34m)\u001b[0m\u001b[0;34m\u001b[0m\u001b[0;34m\u001b[0m\u001b[0m\n\u001b[1;32m      5\u001b[0m \u001b[0mhousing_df\u001b[0m \u001b[0;34m=\u001b[0m \u001b[0mpd\u001b[0m\u001b[0;34m.\u001b[0m\u001b[0mDataFrame\u001b[0m\u001b[0;34m(\u001b[0m\u001b[0mperc_total\u001b[0m\u001b[0;34m,\u001b[0m \u001b[0mindex\u001b[0m\u001b[0;34m=\u001b[0m \u001b[0myear_names\u001b[0m\u001b[0;34m)\u001b[0m\u001b[0;34m\u001b[0m\u001b[0;34m\u001b[0m\u001b[0m\n",
      "\u001b[0;32m~/opt/anaconda3/lib/python3.7/site-packages/pandas/core/frame.py\u001b[0m in \u001b[0;36m__getitem__\u001b[0;34m(self, key)\u001b[0m\n\u001b[1;32m   2978\u001b[0m             \u001b[0;32mif\u001b[0m \u001b[0mself\u001b[0m\u001b[0;34m.\u001b[0m\u001b[0mcolumns\u001b[0m\u001b[0;34m.\u001b[0m\u001b[0mnlevels\u001b[0m \u001b[0;34m>\u001b[0m \u001b[0;36m1\u001b[0m\u001b[0;34m:\u001b[0m\u001b[0;34m\u001b[0m\u001b[0;34m\u001b[0m\u001b[0m\n\u001b[1;32m   2979\u001b[0m                 \u001b[0;32mreturn\u001b[0m \u001b[0mself\u001b[0m\u001b[0;34m.\u001b[0m\u001b[0m_getitem_multilevel\u001b[0m\u001b[0;34m(\u001b[0m\u001b[0mkey\u001b[0m\u001b[0;34m)\u001b[0m\u001b[0;34m\u001b[0m\u001b[0;34m\u001b[0m\u001b[0m\n\u001b[0;32m-> 2980\u001b[0;31m             \u001b[0mindexer\u001b[0m \u001b[0;34m=\u001b[0m \u001b[0mself\u001b[0m\u001b[0;34m.\u001b[0m\u001b[0mcolumns\u001b[0m\u001b[0;34m.\u001b[0m\u001b[0mget_loc\u001b[0m\u001b[0;34m(\u001b[0m\u001b[0mkey\u001b[0m\u001b[0;34m)\u001b[0m\u001b[0;34m\u001b[0m\u001b[0;34m\u001b[0m\u001b[0m\n\u001b[0m\u001b[1;32m   2981\u001b[0m             \u001b[0;32mif\u001b[0m \u001b[0mis_integer\u001b[0m\u001b[0;34m(\u001b[0m\u001b[0mindexer\u001b[0m\u001b[0;34m)\u001b[0m\u001b[0;34m:\u001b[0m\u001b[0;34m\u001b[0m\u001b[0;34m\u001b[0m\u001b[0m\n\u001b[1;32m   2982\u001b[0m                 \u001b[0mindexer\u001b[0m \u001b[0;34m=\u001b[0m \u001b[0;34m[\u001b[0m\u001b[0mindexer\u001b[0m\u001b[0;34m]\u001b[0m\u001b[0;34m\u001b[0m\u001b[0;34m\u001b[0m\u001b[0m\n",
      "\u001b[0;32m~/opt/anaconda3/lib/python3.7/site-packages/pandas/core/indexes/base.py\u001b[0m in \u001b[0;36mget_loc\u001b[0;34m(self, key, method, tolerance)\u001b[0m\n\u001b[1;32m   2897\u001b[0m                 \u001b[0;32mreturn\u001b[0m \u001b[0mself\u001b[0m\u001b[0;34m.\u001b[0m\u001b[0m_engine\u001b[0m\u001b[0;34m.\u001b[0m\u001b[0mget_loc\u001b[0m\u001b[0;34m(\u001b[0m\u001b[0mkey\u001b[0m\u001b[0;34m)\u001b[0m\u001b[0;34m\u001b[0m\u001b[0;34m\u001b[0m\u001b[0m\n\u001b[1;32m   2898\u001b[0m             \u001b[0;32mexcept\u001b[0m \u001b[0mKeyError\u001b[0m\u001b[0;34m:\u001b[0m\u001b[0;34m\u001b[0m\u001b[0;34m\u001b[0m\u001b[0m\n\u001b[0;32m-> 2899\u001b[0;31m                 \u001b[0;32mreturn\u001b[0m \u001b[0mself\u001b[0m\u001b[0;34m.\u001b[0m\u001b[0m_engine\u001b[0m\u001b[0;34m.\u001b[0m\u001b[0mget_loc\u001b[0m\u001b[0;34m(\u001b[0m\u001b[0mself\u001b[0m\u001b[0;34m.\u001b[0m\u001b[0m_maybe_cast_indexer\u001b[0m\u001b[0;34m(\u001b[0m\u001b[0mkey\u001b[0m\u001b[0;34m)\u001b[0m\u001b[0;34m)\u001b[0m\u001b[0;34m\u001b[0m\u001b[0;34m\u001b[0m\u001b[0m\n\u001b[0m\u001b[1;32m   2900\u001b[0m         \u001b[0mindexer\u001b[0m \u001b[0;34m=\u001b[0m \u001b[0mself\u001b[0m\u001b[0;34m.\u001b[0m\u001b[0mget_indexer\u001b[0m\u001b[0;34m(\u001b[0m\u001b[0;34m[\u001b[0m\u001b[0mkey\u001b[0m\u001b[0;34m]\u001b[0m\u001b[0;34m,\u001b[0m \u001b[0mmethod\u001b[0m\u001b[0;34m=\u001b[0m\u001b[0mmethod\u001b[0m\u001b[0;34m,\u001b[0m \u001b[0mtolerance\u001b[0m\u001b[0;34m=\u001b[0m\u001b[0mtolerance\u001b[0m\u001b[0;34m)\u001b[0m\u001b[0;34m\u001b[0m\u001b[0;34m\u001b[0m\u001b[0m\n\u001b[1;32m   2901\u001b[0m         \u001b[0;32mif\u001b[0m \u001b[0mindexer\u001b[0m\u001b[0;34m.\u001b[0m\u001b[0mndim\u001b[0m \u001b[0;34m>\u001b[0m \u001b[0;36m1\u001b[0m \u001b[0;32mor\u001b[0m \u001b[0mindexer\u001b[0m\u001b[0;34m.\u001b[0m\u001b[0msize\u001b[0m \u001b[0;34m>\u001b[0m \u001b[0;36m1\u001b[0m\u001b[0;34m:\u001b[0m\u001b[0;34m\u001b[0m\u001b[0;34m\u001b[0m\u001b[0m\n",
      "\u001b[0;32mpandas/_libs/index.pyx\u001b[0m in \u001b[0;36mpandas._libs.index.IndexEngine.get_loc\u001b[0;34m()\u001b[0m\n",
      "\u001b[0;32mpandas/_libs/index.pyx\u001b[0m in \u001b[0;36mpandas._libs.index.IndexEngine.get_loc\u001b[0;34m()\u001b[0m\n",
      "\u001b[0;32mpandas/_libs/hashtable_class_helper.pxi\u001b[0m in \u001b[0;36mpandas._libs.hashtable.PyObjectHashTable.get_item\u001b[0;34m()\u001b[0m\n",
      "\u001b[0;32mpandas/_libs/hashtable_class_helper.pxi\u001b[0m in \u001b[0;36mpandas._libs.hashtable.PyObjectHashTable.get_item\u001b[0;34m()\u001b[0m\n",
      "\u001b[0;31mKeyError\u001b[0m: 'year_of_sale'"
     ]
    }
   ],
   "source": [
    "def conv(year):\n",
    "  return housing_data[housing_data['year_of_sale']==year].groupby('price_range').size()\n",
    "perc_total = [x/sum(x)*100 for x in [conv(2003),conv(2004),conv(2005),conv(2006),conv(2007),conv(2008),conv(2009),conv(2010),conv(2011),conv(2012),conv(2013),conv(2014),conv(2015),conv(2016),conv(2017)]]\n",
    "year_names = list(range(2003,2018))\n",
    "housing_df = pd.DataFrame(perc_total, index= year_names)"
   ]
  },
  {
   "cell_type": "markdown",
   "metadata": {},
   "source": [
    "#### Step 8: Pearson Ranking"
   ]
  },
  {
   "cell_type": "code",
   "execution_count": 46,
   "metadata": {},
   "outputs": [
    {
     "name": "stderr",
     "output_type": "stream",
     "text": [
      "BokehDeprecationWarning: CARTODBPOSITRON was deprecated in Bokeh 1.1.0 and will be removed, use get_provider(Vendors.CARTODBPOSITRON) instead.\n"
     ]
    },
    {
     "ename": "FileNotFoundError",
     "evalue": "[Errno 2] No such file or directory: 'mappingdf.pkl'",
     "output_type": "error",
     "traceback": [
      "\u001b[0;31m---------------------------------------------------------------------------\u001b[0m",
      "\u001b[0;31mFileNotFoundError\u001b[0m                         Traceback (most recent call last)",
      "\u001b[0;32m<ipython-input-46-1822f929d999>\u001b[0m in \u001b[0;36m<module>\u001b[0;34m\u001b[0m\n\u001b[1;32m     10\u001b[0m \u001b[0mfig\u001b[0m \u001b[0;34m=\u001b[0m \u001b[0mfigure\u001b[0m\u001b[0;34m(\u001b[0m\u001b[0;34m)\u001b[0m\u001b[0;34m\u001b[0m\u001b[0;34m\u001b[0m\u001b[0m\n\u001b[1;32m     11\u001b[0m \u001b[0;34m\u001b[0m\u001b[0m\n\u001b[0;32m---> 12\u001b[0;31m \u001b[0mf\u001b[0m \u001b[0;34m=\u001b[0m \u001b[0mopen\u001b[0m\u001b[0;34m(\u001b[0m\u001b[0;34m\"mappingdf.pkl\"\u001b[0m\u001b[0;34m,\u001b[0m \u001b[0;34m'rb'\u001b[0m\u001b[0;34m)\u001b[0m\u001b[0;34m\u001b[0m\u001b[0;34m\u001b[0m\u001b[0m\n\u001b[0m\u001b[1;32m     13\u001b[0m \u001b[0mdf\u001b[0m \u001b[0;34m=\u001b[0m \u001b[0mpickle\u001b[0m\u001b[0;34m.\u001b[0m\u001b[0mload\u001b[0m\u001b[0;34m(\u001b[0m\u001b[0mf\u001b[0m\u001b[0;34m)\u001b[0m\u001b[0;34m\u001b[0m\u001b[0;34m\u001b[0m\u001b[0m\n\u001b[1;32m     14\u001b[0m \u001b[0mf\u001b[0m\u001b[0;34m.\u001b[0m\u001b[0mclose\u001b[0m\u001b[0;34m\u001b[0m\u001b[0;34m\u001b[0m\u001b[0m\n",
      "\u001b[0;31mFileNotFoundError\u001b[0m: [Errno 2] No such file or directory: 'mappingdf.pkl'"
     ]
    }
   ],
   "source": [
    "from bokeh.io import output_file, curdoc\n",
    "from bokeh.plotting import figure, show, ColumnDataSource, reset_output\n",
    "from bokeh.tile_providers import CARTODBPOSITRON\n",
    "from bokeh.models import ColorBar, Select, HoverTool, GeoJSONDataSource\n",
    "from bokeh.palettes import RdYlGn\n",
    "from bokeh.transform import linear_cmap, log_cmap\n",
    "from bokeh.models.widgets import Slider, Tabs, Panel\n",
    "from bokeh.layouts import row, column, gridplot, widgetbox\n",
    "\n",
    "fig = figure()\n",
    "\n",
    "f = open(\"mappingdf.pkl\", 'rb')\n",
    "df = pickle.load(f)\n",
    "f.close\n",
    "\n",
    "reset_output()\n",
    "\n",
    "def display_data(selectedYear):\n",
    "    yr = selectedYear\n",
    "    df_yr = df[df['year_of_sale'] == yr]\n",
    "    df_yr = df_yr[df_yr['sale_price'] >= 100000]\n",
    "    return df_yr\n",
    "\n",
    "source = ColumnDataSource(data = display_data(2017))\n",
    "\n",
    "pal= RdYlGn[6]\n",
    "\n",
    "mapper = log_cmap(field_name = \"sale_price\", palette = pal, low=100000, low_color = 'green', high=23000000)\n",
    "\n",
    "\n",
    "tooltips = [(\"Price\",\"@sale_price\"), (\"Address\",\"@address\"), (\"Neighborhood\", \"@neighborhood\")]\n",
    "slider = Slider(start=2003, end=2017, step=1, value=2017, title = 'Year')\n",
    "fig = figure(x_axis_type = 'mercator', y_axis_type = 'mercator', tooltips = tooltips, title = 'Brooklyn Residential Housing Prices, 2017')\n",
    "fig.add_tile(CARTODBPOSITRON)\n",
    "\n",
    "fig.circle(x = 'coords_x', y = 'coords_y', line_color = mapper,color=mapper, source=source)\n",
    "\n",
    "color_bar = ColorBar(color_mapper=mapper['transform'], width=8, location=(0,0))\n",
    "\n",
    "fig.add_layout(color_bar, 'right')\n",
    "layout = column(fig, slider)\n",
    "\n",
    "def update_plot(attr, old, new):\n",
    "    yr = slider.value\n",
    "    new_data = display_data(yr)\n",
    "    source = new_data\n",
    "    fig.title.text = 'Brooklyn Housing Prices, %d' %yr\n",
    "\n",
    "# Make a slider object: slider\n",
    "slider = Slider(title = 'Year',start = 2003, end = 2017, step = 1, value = 2017)\n",
    "slider.on_change('value', update_plot)\n",
    "# Make a column layout of widgetbox(slider) and plot, and add it to the current document\n",
    "layout = column(fig, widgetbox(slider))\n",
    "curdoc().add_root(layout)\n",
    "curdoc().title='Brooklyn Housing Prices'\n",
    "\n",
    "#Display plot\n",
    "show(layout)"
   ]
  },
  {
   "cell_type": "code",
   "execution_count": null,
   "metadata": {},
   "outputs": [],
   "source": []
  },
  {
   "cell_type": "code",
   "execution_count": null,
   "metadata": {},
   "outputs": [],
   "source": []
  }
 ],
 "metadata": {
  "kernelspec": {
   "display_name": "Python 3",
   "language": "python",
   "name": "python3"
  },
  "language_info": {
   "codemirror_mode": {
    "name": "ipython",
    "version": 3
   },
   "file_extension": ".py",
   "mimetype": "text/x-python",
   "name": "python",
   "nbconvert_exporter": "python",
   "pygments_lexer": "ipython3",
   "version": "3.7.4"
  },
  "latex_envs": {
   "LaTeX_envs_menu_present": true,
   "autoclose": false,
   "autocomplete": true,
   "bibliofile": "biblio.bib",
   "cite_by": "apalike",
   "current_citInitial": 1,
   "eqLabelWithNumbers": true,
   "eqNumInitial": 1,
   "hotkeys": {
    "equation": "Ctrl-E",
    "itemize": "Ctrl-I"
   },
   "labels_anchors": false,
   "latex_user_defs": false,
   "report_style_numbering": false,
   "user_envs_cfg": false
  }
 },
 "nbformat": 4,
 "nbformat_minor": 2
}
